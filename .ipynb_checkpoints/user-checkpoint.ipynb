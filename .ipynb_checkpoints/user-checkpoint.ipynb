{
 "cells": [
  {
   "cell_type": "code",
   "execution_count": 1,
   "id": "808e0b7f",
   "metadata": {},
   "outputs": [],
   "source": [
    "def def_user_entity(db, orm):\n",
    "    class User(db.Entity):\n",
    "        _table_ = 'user_data'\n",
    "        id = orm.PrimaryKey(int, auto=True)\n",
    "        First_Name = orm.Optional(str, 50)\n",
    "        Last_Name = orm.Optional(str, 50)\n",
    "        age = orm.Optional(int) \n",
    "        Sex = orm.Optional(str, 7) \n",
    "        Retired = orm.Optional(str, 50)\n",
    "        Dependants = orm.Optional(str, 50)\n",
    "        Marital_status = orm.Optional(str, 50)\n",
    "        Salary = orm.Optional(int)\n",
    "        Pension = orm.Optional(int)\n",
    "        Company = orm.Optional(str, 50)\n",
    "        Commute_distance = orm.Optional(str, 50)\n",
    "        Address_postcode = orm.Optional(str, 50)\n",
    "    return User"
   ]
  },
  {
   "cell_type": "code",
   "execution_count": null,
   "id": "85e8840d",
   "metadata": {},
   "outputs": [],
   "source": []
  }
 ],
 "metadata": {
  "kernelspec": {
   "display_name": "Python 3 (ipykernel)",
   "language": "python",
   "name": "python3"
  },
  "language_info": {
   "codemirror_mode": {
    "name": "ipython",
    "version": 3
   },
   "file_extension": ".py",
   "mimetype": "text/x-python",
   "name": "python",
   "nbconvert_exporter": "python",
   "pygments_lexer": "ipython3",
   "version": "3.10.2"
  }
 },
 "nbformat": 4,
 "nbformat_minor": 5
}
