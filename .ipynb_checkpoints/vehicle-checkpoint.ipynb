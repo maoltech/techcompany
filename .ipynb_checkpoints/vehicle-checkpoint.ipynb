{
 "cells": [
  {
   "cell_type": "code",
   "execution_count": 1,
   "metadata": {},
   "outputs": [],
   "source": [
    "def def_vehicle_entity(db, orm, User):\n",
    "    class Vehicle(db.Entity):\n",
    "        _table_ = 'vehicle_data'\n",
    "        id = orm.PrimaryKey(int, auto=True)\n",
    "        First_Name = orm.Optional(str, 50)\n",
    "        Last_Name = orm.Optional(str, 50)\n",
    "        age = orm.Optional(int) \n",
    "        Sex = orm.Optional(str, 7) \n",
    "        Vehicle_Make = orm.Optional(str, 50) \n",
    "        Vehicle_Model = orm.Optional(str, 50) \n",
    "        Vehicle_Year = orm.Optional(int) \n",
    "        Vehicle_Type = orm.Optional(str, 50)\n",
    "        user = orm.Optional(User, reverse=\"First_Name\")\n",
    "    return Vehicle"
   ]
  },
  {
   "cell_type": "code",
   "execution_count": null,
   "metadata": {},
   "outputs": [],
   "source": []
  },
  {
   "cell_type": "code",
   "execution_count": null,
   "metadata": {},
   "outputs": [],
   "source": []
  }
 ],
 "metadata": {
  "kernelspec": {
   "display_name": "Python 3 (ipykernel)",
   "language": "python",
   "name": "python3"
  },
  "language_info": {
   "codemirror_mode": {
    "name": "ipython",
    "version": 3
   },
   "file_extension": ".py",
   "mimetype": "text/x-python",
   "name": "python",
   "nbconvert_exporter": "python",
   "pygments_lexer": "ipython3",
   "version": "3.10.2"
  }
 },
 "nbformat": 4,
 "nbformat_minor": 4
}
