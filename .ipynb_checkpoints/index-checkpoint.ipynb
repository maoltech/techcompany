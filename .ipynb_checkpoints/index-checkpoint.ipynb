{
 "cells": [
  {
   "cell_type": "code",
   "execution_count": 1,
   "metadata": {},
   "outputs": [
    {
     "name": "stdout",
     "output_type": "stream",
     "text": [
      "Note: you may need to restart the kernel to use updated packages.\n"
     ]
    },
    {
     "name": "stderr",
     "output_type": "stream",
     "text": [
      "'C:\\Users\\maol' is not recognized as an internal or external command,\n",
      "operable program or batch file.\n"
     ]
    }
   ],
   "source": [
    "pip install pandas"
   ]
  },
  {
   "cell_type": "code",
   "execution_count": 2,
   "metadata": {},
   "outputs": [],
   "source": [
    "import pandas as pd"
   ]
  },
  {
   "cell_type": "code",
   "execution_count": 3,
   "metadata": {},
   "outputs": [],
   "source": [
    "import csv"
   ]
  },
  {
   "cell_type": "code",
   "execution_count": 13,
   "metadata": {},
   "outputs": [
    {
     "name": "stdout",
     "output_type": "stream",
     "text": [
      "['First Name', 'Second Name', 'Age (Years)', 'Sex', 'Vehicle Make', 'Vehicle Model', 'Vehicle Year', 'Vehicle Type']\n",
      "['Lynne', 'Hudson', '37', 'Female', 'Subaru', 'Forte', '1993', 'Convertible']\n",
      "['Justin', 'Walker', '29', 'Male', 'Toyota', 'Continental', '2012', 'Sedan']\n",
      "['Maria', 'Jones', '66', 'Female', 'Mitsubishi', 'Yukon XL 2500', '2014', 'Van/Minivan']\n",
      "['Samantha', 'Norman', '19', 'Female', 'Aston Martin', 'Silverado 3500 HD Regular Cab', '1995', 'SUV']\n",
      "['Barry', 'Gray', '83', 'Male', 'Dodge', 'Aventador', '2019', 'Coupe']\n",
      "['Anthony', 'Young', '19', 'Male', 'Volvo', 'Viper', '2017', 'Coupe, Sedan']\n"
     ]
    }
   ],
   "source": [
    "with open('datas/user_data.csv') as file_csv:\n",
    "    user_data_csv = csv.reader(file_csv)\n",
    "    \n",
    "    count = 0\n",
    "    \n",
    "    for row in user_data_csv:\n",
    "        print(row)\n",
    "        \n",
    "        if count > 5:\n",
    "            break\n",
    "        count += 1"
   ]
  },
  {
   "cell_type": "code",
   "execution_count": 10,
   "metadata": {},
   "outputs": [],
   "source": [
    "import json"
   ]
  },
  {
   "cell_type": "code",
   "execution_count": 12,
   "metadata": {},
   "outputs": [
    {
     "name": "stdout",
     "output_type": "stream",
     "text": [
      "Nicholas Spencer 71 646 06/26\n",
      "Gregory Knowles 91 827 01/27\n",
      "Jane Kirk 43 736 09/23\n",
      "Reece Wilson 20 136 06/28\n",
      "Jeffrey Howard 53 042 09/23\n",
      "Susan Davies 68 782 08/26\n",
      "Jodie Robinson 77 966 01/30\n"
     ]
    }
   ],
   "source": [
    "with open('datas/user_data.json') as file_json:\n",
    "    user_data_json = json.load(file_json)\n",
    "    \n",
    "    count = 0\n",
    "\n",
    "    for row in user_data_json:\n",
    "        print(row['firstName'], row['lastName'], row['age'], row['credit_card_security_code'], row['credit_card_end_date'] )\n",
    "\n",
    "        if count > 5:\n",
    "            break\n",
    "        count += 1\n",
    "\n",
    "\n"
   ]
  },
  {
   "cell_type": "code",
   "execution_count": 16,
   "metadata": {},
   "outputs": [],
   "source": [
    "import xml.etree.ElementTree as e"
   ]
  },
  {
   "cell_type": "code",
   "execution_count": 27,
   "metadata": {},
   "outputs": [
    {
     "name": "stdout",
     "output_type": "stream",
     "text": [
      "user {'firstName': 'Iain', 'lastName': 'Dixon', 'age': '64', 'sex': 'Male', 'retired': 'False', 'dependants': '2', 'marital_status': 'single', 'salary': '56185', 'pension': '0', 'company': 'Hudson PLC', 'commute_distance': '14.1', 'address_postcode': 'G2J 0FH'}\n",
      "user {'firstName': 'Jayne', 'lastName': 'Wilson', 'age': '69', 'sex': 'Female', 'retired': 'False', 'dependants': '1', 'marital_status': 'divorced', 'salary': '36872', 'pension': '0', 'company': 'Wall, Reed and Whitehouse', 'commute_distance': '10.47', 'address_postcode': 'TD95 7FL'}\n",
      "user {'firstName': 'Holly', 'lastName': 'Pope', 'age': '55', 'sex': 'Female', 'retired': 'False', 'dependants': '2', 'marital_status': 'married or civil partner', 'salary': '93150', 'pension': '0', 'company': 'Jones PLC', 'commute_distance': '19.59', 'address_postcode': 'W2U 0FT'}\n",
      "user {'firstName': 'Rebecca', 'lastName': 'Carter', 'age': '72', 'sex': 'Female', 'retired': 'False', 'dependants': '3', 'marital_status': 'married or civil partner', 'salary': '33947', 'pension': '0', 'company': 'Jarvis and Sons', 'commute_distance': '9.84', 'address_postcode': 'NR5R 6JQ'}\n",
      "user {'firstName': 'Carly', 'lastName': 'Nicholson', 'age': '28', 'sex': 'Female', 'retired': 'False', 'dependants': '1', 'marital_status': 'married or civil partner', 'salary': '80933', 'pension': '0', 'company': 'Coleman, Daniels and Wilson', 'commute_distance': '17.92', 'address_postcode': 'M6 1QS'}\n",
      "user {'firstName': 'Guy', 'lastName': 'Parker', 'age': '60', 'sex': 'Male', 'retired': 'False', 'dependants': '1', 'marital_status': 'married or civil partner', 'salary': '39507', 'pension': '0', 'company': 'Collins-Ali', 'commute_distance': '11.01', 'address_postcode': 'E28 5YN'}\n",
      "user {'firstName': 'Brandon', 'lastName': 'Collins', 'age': '32', 'sex': 'Male', 'retired': 'False', 'dependants': '2', 'marital_status': 'single', 'salary': '62774', 'pension': '0', 'company': 'Hamilton, Roberts and Graham', 'commute_distance': '15.19', 'address_postcode': 'LU9X 4BG'}\n"
     ]
    }
   ],
   "source": [
    "with open('datas/user_data.xml') as file_xml:\n",
    "    tree = e.parse(file_xml)\n",
    "    \n",
    "    root = tree.getroot()\n",
    "\n",
    "    count = 0\n",
    "\n",
    "    for row in root:\n",
    "        print(row.tag, row.attrib)\n",
    "\n",
    "        if count > 5:\n",
    "            break\n",
    "        count += 1"
   ]
  },
  {
   "cell_type": "code",
   "execution_count": 21,
   "metadata": {},
   "outputs": [
    {
     "name": "stdout",
     "output_type": "stream",
     "text": [
      "user {'firstName': 'Iain', 'lastName': 'Dixon', 'age': '64', 'sex': 'Male', 'retired': 'False', 'dependants': '2', 'marital_status': 'single', 'salary': '56185', 'pension': '0', 'company': 'Hudson PLC', 'commute_distance': '14.1', 'address_postcode': 'G2J 0FH'}\n",
      "user {'firstName': 'Jayne', 'lastName': 'Wilson', 'age': '69', 'sex': 'Female', 'retired': 'False', 'dependants': '1', 'marital_status': 'divorced', 'salary': '36872', 'pension': '0', 'company': 'Wall, Reed and Whitehouse', 'commute_distance': '10.47', 'address_postcode': 'TD95 7FL'}\n",
      "user {'firstName': 'Holly', 'lastName': 'Pope', 'age': '55', 'sex': 'Female', 'retired': 'False', 'dependants': '2', 'marital_status': 'married or civil partner', 'salary': '93150', 'pension': '0', 'company': 'Jones PLC', 'commute_distance': '19.59', 'address_postcode': 'W2U 0FT'}\n",
      "user {'firstName': 'Rebecca', 'lastName': 'Carter', 'age': '72', 'sex': 'Female', 'retired': 'False', 'dependants': '3', 'marital_status': 'married or civil partner', 'salary': '33947', 'pension': '0', 'company': 'Jarvis and Sons', 'commute_distance': '9.84', 'address_postcode': 'NR5R 6JQ'}\n",
      "user {'firstName': 'Carly', 'lastName': 'Nicholson', 'age': '28', 'sex': 'Female', 'retired': 'False', 'dependants': '1', 'marital_status': 'married or civil partner', 'salary': '80933', 'pension': '0', 'company': 'Coleman, Daniels and Wilson', 'commute_distance': '17.92', 'address_postcode': 'M6 1QS'}\n",
      "user {'firstName': 'Guy', 'lastName': 'Parker', 'age': '60', 'sex': 'Male', 'retired': 'False', 'dependants': '1', 'marital_status': 'married or civil partner', 'salary': '39507', 'pension': '0', 'company': 'Collins-Ali', 'commute_distance': '11.01', 'address_postcode': 'E28 5YN'}\n",
      "user {'firstName': 'Brandon', 'lastName': 'Collins', 'age': '32', 'sex': 'Male', 'retired': 'False', 'dependants': '2', 'marital_status': 'single', 'salary': '62774', 'pension': '0', 'company': 'Hamilton, Roberts and Graham', 'commute_distance': '15.19', 'address_postcode': 'LU9X 4BG'}\n"
     ]
    }
   ],
   "source": [
    "tree = e.parse('datas/user_data.xml')\n",
    "root = tree.getroot()\n",
    "\n",
    "count = 0\n",
    "\n",
    "for row in root:\n",
    "    print(row.tag, row.attrib)\n",
    "\n",
    "    if count > 5:\n",
    "        break\n",
    "    count += 1"
   ]
  },
  {
   "cell_type": "code",
   "execution_count": 8,
   "metadata": {},
   "outputs": [
    {
     "ename": "ModuleNotFoundError",
     "evalue": "No module named 'pony'",
     "output_type": "error",
     "traceback": [
      "\u001b[1;31m---------------------------------------------------------------------------\u001b[0m",
      "\u001b[1;31mModuleNotFoundError\u001b[0m                       Traceback (most recent call last)",
      "\u001b[1;32m<ipython-input-8-1ac20bd31674>\u001b[0m in \u001b[0;36m<module>\u001b[1;34m\u001b[0m\n\u001b[1;32m----> 1\u001b[1;33m \u001b[1;32mfrom\u001b[0m \u001b[0mpony\u001b[0m\u001b[1;33m.\u001b[0m\u001b[0morm\u001b[0m \u001b[1;32mimport\u001b[0m \u001b[1;33m*\u001b[0m\u001b[1;33m\u001b[0m\u001b[1;33m\u001b[0m\u001b[0m\n\u001b[0m",
      "\u001b[1;31mModuleNotFoundError\u001b[0m: No module named 'pony'"
     ]
    }
   ],
   "source": [
    "from pony.orm import *"
   ]
  },
  {
   "cell_type": "code",
   "execution_count": 9,
   "metadata": {},
   "outputs": [
    {
     "name": "stdout",
     "output_type": "stream",
     "text": [
      "Collecting pony\n",
      "  Using cached pony-0.7.16-py3-none-any.whl (313 kB)\n",
      "Installing collected packages: pony\n",
      "Successfully installed pony-0.7.16\n"
     ]
    }
   ],
   "source": [
    "!pip install pony"
   ]
  },
  {
   "cell_type": "code",
   "execution_count": 10,
   "metadata": {},
   "outputs": [],
   "source": [
    "from pony import orm"
   ]
  },
  {
   "cell_type": "code",
   "execution_count": null,
   "metadata": {},
   "outputs": [],
   "source": []
  }
 ],
 "metadata": {
  "kernelspec": {
   "display_name": "Python 3 (ipykernel)",
   "language": "python",
   "name": "python3"
  },
  "language_info": {
   "codemirror_mode": {
    "name": "ipython",
    "version": 3
   },
   "file_extension": ".py",
   "mimetype": "text/x-python",
   "name": "python",
   "nbconvert_exporter": "python",
   "pygments_lexer": "ipython3",
   "version": "3.10.2"
  }
 },
 "nbformat": 4,
 "nbformat_minor": 4
}
