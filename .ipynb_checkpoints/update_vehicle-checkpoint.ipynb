{
 "cells": [
  {
   "cell_type": "code",
   "execution_count": 2,
   "id": "dfdd832f",
   "metadata": {},
   "outputs": [],
   "source": [
    "from pony.orm import db_session\n",
    "import csv"
   ]
  },
  {
   "cell_type": "code",
   "execution_count": 3,
   "id": "556a2d52",
   "metadata": {},
   "outputs": [],
   "source": [
    "@db_session\n",
    "def update_vehicle(Vehicle):\n",
    "    with open('datas/user_data.csv') as file_csv:\n",
    "        user_data_csv = csv.reader(file_csv)\n",
    "\n",
    "        count = 1\n",
    "\n",
    "        for row in user_data_csv:\n",
    "            print(row)\n",
    "\n",
    "\n",
    "            Vehicle(\n",
    "                First_Name = row[0],\n",
    "                Last_Name = row[1],\n",
    "                age = row[2],\n",
    "                Sex = row[3],\n",
    "                Vehicle_Make = row[4],\n",
    "                Vehicle_Model = row[5],\n",
    "                Vehicle_Year = row[6],\n",
    "                Vehicle_Type = row[7],\n",
    "            )\n",
    "\n",
    "\n",
    "            if count > 6:\n",
    "                break\n",
    "            count += 1\n"
   ]
  },
  {
   "cell_type": "code",
   "execution_count": null,
   "id": "fb7f68c1",
   "metadata": {},
   "outputs": [],
   "source": []
  }
 ],
 "metadata": {
  "kernelspec": {
   "display_name": "Python 3 (ipykernel)",
   "language": "python",
   "name": "python3"
  },
  "language_info": {
   "codemirror_mode": {
    "name": "ipython",
    "version": 3
   },
   "file_extension": ".py",
   "mimetype": "text/x-python",
   "name": "python",
   "nbconvert_exporter": "python",
   "pygments_lexer": "ipython3",
   "version": "3.10.2"
  }
 },
 "nbformat": 4,
 "nbformat_minor": 5
}
