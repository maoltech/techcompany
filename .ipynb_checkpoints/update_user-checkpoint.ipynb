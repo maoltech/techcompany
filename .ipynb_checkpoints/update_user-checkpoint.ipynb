{
 "cells": [
  {
   "cell_type": "code",
   "execution_count": 1,
   "id": "b20576d9",
   "metadata": {},
   "outputs": [],
   "source": [
    "from pony.orm import db_session\n",
    "import xml.etree.ElementTree as e"
   ]
  },
  {
   "cell_type": "code",
   "execution_count": 2,
   "id": "962545ea",
   "metadata": {},
   "outputs": [],
   "source": [
    "@db_session\n",
    "def update_user(User):\n",
    "     with open('datas/user_data.xml') as file_xml:\n",
    "        tree = e.parse(file_xml)\n",
    "\n",
    "        root = tree.getroot()\n",
    "\n",
    "        count = 0\n",
    "\n",
    "        for row in root[count]:\n",
    "            print(row.tag, row.attrib)\n",
    "            User(\n",
    "                First_Name = row.attrib['firstName'],\n",
    "                Last_Name = row.attrib['lastName'],\n",
    "                age = row.attrib['age'],\n",
    "                Sex = row.attrib['sex'], \n",
    "                Retired = row.attrib['retired'],\n",
    "                Dependants = row.attrib['dependants'],\n",
    "                Marital_status = row.attrib['marital_status'],\n",
    "                Salary = row.attrib['salary'],\n",
    "                Pension = row.attrib['pension'],\n",
    "                Company = row.attrib['company'],\n",
    "                Commute_distance = row.attrib['commute_distance'],\n",
    "                Address_postcode = row.attrib['address_postcode']\n",
    "            )\n",
    "            \n",
    "\n",
    "            if count > 5:\n",
    "                break\n",
    "            count += 1\n"
   ]
  },
  {
   "cell_type": "code",
   "execution_count": null,
   "id": "5dedb083",
   "metadata": {},
   "outputs": [],
   "source": []
  },
  {
   "cell_type": "code",
   "execution_count": null,
   "id": "68bc2fe0",
   "metadata": {},
   "outputs": [],
   "source": []
  }
 ],
 "metadata": {
  "kernelspec": {
   "display_name": "Python 3 (ipykernel)",
   "language": "python",
   "name": "python3"
  },
  "language_info": {
   "codemirror_mode": {
    "name": "ipython",
    "version": 3
   },
   "file_extension": ".py",
   "mimetype": "text/x-python",
   "name": "python",
   "nbconvert_exporter": "python",
   "pygments_lexer": "ipython3",
   "version": "3.10.2"
  }
 },
 "nbformat": 4,
 "nbformat_minor": 5
}
