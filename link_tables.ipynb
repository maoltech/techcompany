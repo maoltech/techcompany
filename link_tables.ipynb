{
 "cells": [
  {
   "cell_type": "code",
   "execution_count": 1,
   "id": "626f039e",
   "metadata": {},
   "outputs": [],
   "source": [
    "from pony import orm"
   ]
  },
  {
   "cell_type": "code",
   "execution_count": 2,
   "id": "91e7de75",
   "metadata": {},
   "outputs": [],
   "source": [
    "with orm.db_session:\n",
    "    def def_joined_entity(query, Finance):\n",
    "           query2 = orm.select(\n",
    "                (q.id, q.First_Name, q.Last_Name, q.age, q.Sex, q.Retired, q.Dependants, q.Marital_status, q.Salary, q.Pension, q.Company, q.Commute_distance, q.Address_postcode, q.Vehicle_Make, q.Vehicle_Model, q.Vehicle_Year, q.Vehicle_Type)\n",
    "                for q in query for F in Finance\n",
    "                if q.First_Name == F.First_Name and q.Last_Name == F.Last_Name)\n",
    "            \n",
    "           query2.show()"
   ]
  },
  {
   "cell_type": "code",
   "execution_count": null,
   "id": "c2d3add2",
   "metadata": {},
   "outputs": [],
   "source": []
  }
 ],
 "metadata": {
  "kernelspec": {
   "display_name": "Python 3 (ipykernel)",
   "language": "python",
   "name": "python3"
  },
  "language_info": {
   "codemirror_mode": {
    "name": "ipython",
    "version": 3
   },
   "file_extension": ".py",
   "mimetype": "text/x-python",
   "name": "python",
   "nbconvert_exporter": "python",
   "pygments_lexer": "ipython3",
   "version": "3.10.2"
  }
 },
 "nbformat": 4,
 "nbformat_minor": 5
}
