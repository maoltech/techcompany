{
 "cells": [
  {
   "cell_type": "code",
   "execution_count": 2,
   "id": "deecfe57",
   "metadata": {},
   "outputs": [],
   "source": [
    "from pony import orm"
   ]
  },
  {
   "cell_type": "code",
   "execution_count": 3,
   "id": "154d3cdf",
   "metadata": {},
   "outputs": [],
   "source": [
    "with orm.db_session:\n",
    "    def def_linked_entity(User, Vehicle, Finance):\n",
    "           query = orm.select(\n",
    "                (U.id, U.First_Name, U.Last_Name, U.age, U.Sex, U.Retired, U.Dependants, U.Marital_status, U.Salary, U.Pension, U.Company, U.Commute_distance, U.Address_postcode, V.Vehicle_Make, V.Vehicle_Model, V.Vehicle_Year, V.Vehicle_Type, F.iban, F.credit_card_number, F.credit_card_security_code, F.credit_card_start_date, F.credit_card_end_date, F.address_main, F.address_city, F.address_postcode )\n",
    "                for U in User for V in Vehicle for F in Finance\n",
    "                if F.First_Name == V.First_Name and F.Last_Name == V.Last_Name)\n",
    "            \n",
    "           query.show()"
   ]
  },
  {
   "cell_type": "code",
   "execution_count": null,
   "id": "ccdb3698",
   "metadata": {},
   "outputs": [],
   "source": [
    "# with orm.db_session:\n",
    "#     def def_linked_entity(User, Vehicle, Finance):\n",
    "#            query = orm.select(\n",
    "#                 (U.id, U.First_Name, U.Last_Name, U.age, U.Sex, U.Retired, U.Dependants, U.Marital_status, U.Salary, U.Pension, U.Company, U.Commute_distance, U.Address_postcode, V.Vehicle_Make, V.Vehicle_Model, V.Vehicle_Year, V.Vehicle_Type, F.iban, F.credit_card_number, F.credit_card_security_code, F.credit_card_start_date, F.credit_card_end_date, F.address_main, F.address_city, F.address_postcode )\n",
    "#                 for U in User for V in Vehicle for F in Finance\n",
    "#                 if U.First_Name == V.First_Name and U.Last_Name == V.Last_Name and F.First_Name == V.First_Name and F.Last_Name == V.Last_Name and U.First_Name == F.First_Name and U.Last_Name == F.Last_Name)\n",
    "            \n",
    "#            query.show()"
   ]
  }
 ],
 "metadata": {
  "kernelspec": {
   "display_name": "Python 3 (ipykernel)",
   "language": "python",
   "name": "python3"
  },
  "language_info": {
   "codemirror_mode": {
    "name": "ipython",
    "version": 3
   },
   "file_extension": ".py",
   "mimetype": "text/x-python",
   "name": "python",
   "nbconvert_exporter": "python",
   "pygments_lexer": "ipython3",
   "version": "3.10.2"
  }
 },
 "nbformat": 4,
 "nbformat_minor": 5
}
