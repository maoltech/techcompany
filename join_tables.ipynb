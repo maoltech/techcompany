{
 "cells": [
  {
   "cell_type": "code",
   "execution_count": 1,
   "id": "d453be04",
   "metadata": {},
   "outputs": [],
   "source": [
    "from pony import orm"
   ]
  },
  {
   "cell_type": "code",
   "execution_count": 6,
   "id": "7f0ceaf7",
   "metadata": {},
   "outputs": [
    {
     "ename": "IndentationError",
     "evalue": "expected an indented block after class definition on line 3 (4217746214.py, line 3)",
     "output_type": "error",
     "traceback": [
      "\u001b[1;36m  Cell \u001b[1;32mIn[6], line 3\u001b[1;36m\u001b[0m\n\u001b[1;33m    class Linked(db.Entity):\u001b[0m\n\u001b[1;37m                            ^\u001b[0m\n\u001b[1;31mIndentationError\u001b[0m\u001b[1;31m:\u001b[0m expected an indented block after class definition on line 3\n"
     ]
    }
   ],
   "source": [
    "with orm.db_sessions:\n",
    "    def def_linked_entity(User, Vehicle, Finance):\n",
    "        class Linked(db.Entity):\n",
    "            orm.select(\n",
    "                for U in User \n",
    "            )"
   ]
  },
  {
   "cell_type": "code",
   "execution_count": null,
   "id": "e8d2b9bc",
   "metadata": {},
   "outputs": [],
   "source": []
  }
 ],
 "metadata": {
  "kernelspec": {
   "display_name": "Python 3 (ipykernel)",
   "language": "python",
   "name": "python3"
  },
  "language_info": {
   "codemirror_mode": {
    "name": "ipython",
    "version": 3
   },
   "file_extension": ".py",
   "mimetype": "text/x-python",
   "name": "python",
   "nbconvert_exporter": "python",
   "pygments_lexer": "ipython3",
   "version": "3.10.2"
  }
 },
 "nbformat": 4,
 "nbformat_minor": 5
}
