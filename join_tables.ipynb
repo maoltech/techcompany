{
 "cells": [
  {
   "cell_type": "code",
   "execution_count": 4,
   "id": "deecfe57",
   "metadata": {},
   "outputs": [],
   "source": [
    "from pony import orm"
   ]
  },
  {
   "cell_type": "code",
   "execution_count": 5,
   "id": "ccdb3698",
   "metadata": {},
   "outputs": [],
   "source": [
    "with orm.db_session:\n",
    "    def def_linked_entity(User, Vehicle, Finance, Combined):\n",
    "           Combined_data = orm.select(\n",
    "                \"(U.id, U.First_Name, U.Last_Name, U.age, U.Sex, U.Retired, U.Dependants, U.Marital_status, U.Salary, U.Pension, U.Company, U.Commute_distance, U.Address_postcode, V.Vehicle_Make, V.Vehicle_Model, V.Vehicle_Year, V.Vehicle_Type, F.iban, F.credit_card_number, F.credit_card_security_code, F.credit_card_start_date, F.credit_card_end_date, F.address_main, F.address_city)for U in User for V in Vehicle for F in Finance if U.First_Name == V.First_Name == F.First_Name and U.Last_Name == V.Last_Name == F.Last_Name\")\n",
    "            \n",
    "           count = 0\n",
    "            \n",
    "           for row in Combined_data:\n",
    "           \n",
    "                Combined(\n",
    "                    User_Id = row[0],\n",
    "                    First_Name = row[1],\n",
    "                    Last_Name = row[2],\n",
    "                    age = row[3],\n",
    "                    Sex = row[4],\n",
    "                    Retired = row[5],\n",
    "                    Dependants = row[6],\n",
    "                    Marital_status = row[7],\n",
    "                    Salary = row[8],\n",
    "                    Pension = row[9],\n",
    "                    Company = row[10],\n",
    "                    Commute_distance = row[11],\n",
    "                    Address_postcode = row[12],\n",
    "                    Vehicle_Make = row[13], \n",
    "                    Vehicle_Model = row[14], \n",
    "                    Vehicle_Year = row[15], \n",
    "                    Vehicle_Type = row[16],\n",
    "                    iban = row[17],\n",
    "                    credit_card_number = row[18],\n",
    "                    credit_card_security_code = row[19],\n",
    "                    credit_card_start_date = row[20], \n",
    "                    credit_card_end_date = row[21], \n",
    "                    address_main = row[22], \n",
    "                    address_city = row[23],\n",
    "                            )\n",
    "                \n",
    "                if count > len(Combined_data):\n",
    "                    break\n",
    "                count += 1\n",
    "                "
   ]
  },
  {
   "cell_type": "code",
   "execution_count": null,
   "id": "fa1c70a4",
   "metadata": {},
   "outputs": [],
   "source": []
  },
  {
   "cell_type": "code",
   "execution_count": null,
   "id": "2e7c7e9b",
   "metadata": {},
   "outputs": [],
   "source": [
    "\n"
   ]
  },
  {
   "cell_type": "code",
   "execution_count": null,
   "id": "cc235d86",
   "metadata": {},
   "outputs": [],
   "source": []
  }
 ],
 "metadata": {
  "kernelspec": {
   "display_name": "Python 3 (ipykernel)",
   "language": "python",
   "name": "python3"
  },
  "language_info": {
   "codemirror_mode": {
    "name": "ipython",
    "version": 3
   },
   "file_extension": ".py",
   "mimetype": "text/x-python",
   "name": "python",
   "nbconvert_exporter": "python",
   "pygments_lexer": "ipython3",
   "version": "3.10.2"
  }
 },
 "nbformat": 4,
 "nbformat_minor": 5
}
