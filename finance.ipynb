{
 "cells": [
  {
   "cell_type": "code",
   "execution_count": 3,
   "id": "6fa6725a",
   "metadata": {},
   "outputs": [],
   "source": [
    "def def_finance_entity(db, orm, User):\n",
    "    class Finance(db.Entity):\n",
    "        _table_ = 'finance_data'\n",
    "        id = orm.PrimaryKey(int, auto=True)\n",
    "        First_Name = orm.Required(str, 50)\n",
    "        Last_Name = orm.Required(str, 50)\n",
    "        age = orm.Required(int) \n",
    "        iban = orm.Required(str, 50)\n",
    "        credit_card_number = orm.Required(str, 50)\n",
    "        credit_card_security_code = orm.Required(int)\n",
    "        credit_card_start_date = orm.Required(str, 50) \n",
    "        credit_card_end_date = orm.Required(str, 50) \n",
    "        address_main = orm.Required(str, 50) \n",
    "        address_city = orm.Required(str, 50)\n",
    "        address_postcode = orm.Required(str, 50)\n",
    "        user = orm.required(User)\n",
    "    return Finance"
   ]
  },
  {
   "cell_type": "code",
   "execution_count": null,
   "id": "94812e89",
   "metadata": {},
   "outputs": [],
   "source": []
  },
  {
   "cell_type": "code",
   "execution_count": null,
   "id": "52f34d7d",
   "metadata": {},
   "outputs": [],
   "source": []
  }
 ],
 "metadata": {
  "kernelspec": {
   "display_name": "Python 3 (ipykernel)",
   "language": "python",
   "name": "python3"
  },
  "language_info": {
   "codemirror_mode": {
    "name": "ipython",
    "version": 3
   },
   "file_extension": ".py",
   "mimetype": "text/x-python",
   "name": "python",
   "nbconvert_exporter": "python",
   "pygments_lexer": "ipython3",
   "version": "3.10.2"
  }
 },
 "nbformat": 4,
 "nbformat_minor": 5
}
