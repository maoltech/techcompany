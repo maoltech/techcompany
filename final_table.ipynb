{
 "cells": [
  {
   "cell_type": "code",
   "execution_count": null,
   "metadata": {},
   "outputs": [],
   "source": [
    "def def_Combined_entity(db, orm):\n",
    "    class Combined(db.Entity):\n",
    "        _table_ = 'laurel_tech'\n",
    "        id = orm.PrimaryKey(int, auto=True)\n",
    "        User_Id = orm.Optional(int)\n",
    "        First_Name = orm.Optional(str, 50)\n",
    "        Last_Name = orm.Optional(str, 50)\n",
    "        age = orm.Optional(int) \n",
    "        Sex = orm.Optional(str, 7) \n",
    "        Retired = orm.Optional(str, 50)\n",
    "        Dependants = orm.Optional(str, 50)\n",
    "        Marital_status = orm.Optional(str, 50)\n",
    "        Salary = orm.Optional(int)\n",
    "        Pension = orm.Optional(int)\n",
    "        Company = orm.Optional(str, 50)\n",
    "        Commute_distance = orm.Optional(str, 50)\n",
    "        Address_postcode = orm.Optional(str, 50)\n",
    "        Vehicle_Make = orm.Optional(str, 50) \n",
    "        Vehicle_Model = orm.Optional(str, 50) \n",
    "        Vehicle_Year = orm.Optional(int) \n",
    "        Vehicle_Type = orm.Optional(str, 50)\n",
    "        iban = orm.Optional(str, 50)\n",
    "        credit_card_number = orm.Optional(str, 50)\n",
    "        credit_card_security_code = orm.Optional(int)\n",
    "        credit_card_start_date = orm.Optional(str, 50) \n",
    "        credit_card_end_date = orm.Optional(str, 50) \n",
    "        address_main = orm.Optional(str, 50) \n",
    "        address_city = orm.Optional(str, 50)\n",
    "    return Combined"
   ]
  }
 ],
 "metadata": {
  "kernelspec": {
   "display_name": "Python 3 (ipykernel)",
   "language": "python",
   "name": "python3"
  },
  "language_info": {
   "codemirror_mode": {
    "name": "ipython",
    "version": 3
   },
   "file_extension": ".py",
   "mimetype": "text/x-python",
   "name": "python",
   "nbconvert_exporter": "python",
   "pygments_lexer": "ipython3",
   "version": "3.10.2"
  }
 },
 "nbformat": 4,
 "nbformat_minor": 4
}
