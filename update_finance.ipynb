{
 "cells": [
  {
   "cell_type": "code",
   "execution_count": 3,
   "id": "bbdc07f9",
   "metadata": {},
   "outputs": [],
   "source": [
    "from pony.orm import db_session\n",
    "import json"
   ]
  },
  {
   "cell_type": "code",
   "execution_count": 4,
   "id": "8a5b2d57",
   "metadata": {},
   "outputs": [],
   "source": [
    "@db_session\n",
    "def update_finance(Finance):\n",
    "    with open('datas/user_data.json') as file_json:\n",
    "        user_data_json = json.load(file_json)\n",
    "\n",
    "        count = 0\n",
    "\n",
    "        for row in user_data_json:\n",
    "\n",
    "            Finance(\n",
    "                First_Name = row['firstName'],\n",
    "                Last_Name = row['lastName'],\n",
    "                age = row['age'],\n",
    "                iban = row['iban'],\n",
    "                credit_card_number = row['credit_card_number'],\n",
    "                credit_card_security_code = row['credit_card_security_code'],\n",
    "                credit_card_start_date = row['credit_card_start_date'],\n",
    "                credit_card_end_date = row['credit_card_end_date'],\n",
    "                address_main = row['address_main'],\n",
    "                address_city = row['address_city'],\n",
    "                address_postcode = row['address_postcode'],\n",
    "            )\n",
    "\n",
    "\n",
    "            if count > len(user_data_json):\n",
    "                break\n",
    "            count += 1\n"
   ]
  },
  {
   "cell_type": "code",
   "execution_count": null,
   "id": "4ee17cb3",
   "metadata": {},
   "outputs": [],
   "source": []
  },
  {
   "cell_type": "code",
   "execution_count": null,
   "id": "88b8b3aa",
   "metadata": {},
   "outputs": [],
   "source": []
  }
 ],
 "metadata": {
  "kernelspec": {
   "display_name": "Python 3 (ipykernel)",
   "language": "python",
   "name": "python3"
  },
  "language_info": {
   "codemirror_mode": {
    "name": "ipython",
    "version": 3
   },
   "file_extension": ".py",
   "mimetype": "text/x-python",
   "name": "python",
   "nbconvert_exporter": "python",
   "pygments_lexer": "ipython3",
   "version": "3.10.2"
  }
 },
 "nbformat": 4,
 "nbformat_minor": 5
}
