{
 "cells": [
  {
   "cell_type": "code",
   "execution_count": 1,
   "id": "5aeba1ab",
   "metadata": {},
   "outputs": [],
   "source": [
    "from pony.orm import db_session"
   ]
  },
  {
   "cell_type": "code",
   "execution_count": 2,
   "id": "5cba82b4",
   "metadata": {},
   "outputs": [],
   "source": [
    "# @db_session\n",
    "# def update_table(Combined_data):\n",
    "    \n",
    "#     Combined_data.show()\n",
    "    "
   ]
  },
  {
   "cell_type": "code",
   "execution_count": 3,
   "id": "0e80284e",
   "metadata": {},
   "outputs": [],
   "source": [
    "@db_session\n",
    "def update_table(Combined_data):\n",
    "        user_data_combined = vars(Combined_data)\n",
    "        next(Combined_data)\n",
    "        \n",
    "        count = 0\n",
    "\n",
    "        for row in user_data_csv:\n",
    "\n",
    "\n",
    "                print(row)\n",
    "\n",
    "\n",
    "                count += 1\n"
   ]
  },
  {
   "cell_type": "code",
   "execution_count": null,
   "id": "a9587067",
   "metadata": {},
   "outputs": [],
   "source": []
  }
 ],
 "metadata": {
  "kernelspec": {
   "display_name": "Python 3 (ipykernel)",
   "language": "python",
   "name": "python3"
  },
  "language_info": {
   "codemirror_mode": {
    "name": "ipython",
    "version": 3
   },
   "file_extension": ".py",
   "mimetype": "text/x-python",
   "name": "python",
   "nbconvert_exporter": "python",
   "pygments_lexer": "ipython3",
   "version": "3.10.2"
  }
 },
 "nbformat": 4,
 "nbformat_minor": 5
}
